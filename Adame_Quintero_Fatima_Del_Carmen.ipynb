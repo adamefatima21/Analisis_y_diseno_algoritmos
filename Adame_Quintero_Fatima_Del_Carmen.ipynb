{
  "nbformat": 4,
  "nbformat_minor": 0,
  "metadata": {
    "colab": {
      "provenance": [],
      "authorship_tag": "ABX9TyPxYwYGXsO2/2rucP8pVO6z",
      "include_colab_link": true
    },
    "kernelspec": {
      "name": "python3",
      "display_name": "Python 3"
    },
    "language_info": {
      "name": "python"
    }
  },
  "cells": [
    {
      "cell_type": "markdown",
      "metadata": {
        "id": "view-in-github",
        "colab_type": "text"
      },
      "source": [
        "<a href=\"https://colab.research.google.com/github/adamefatima21/Analisis_y_diseno_algoritmos/blob/main/Adame_Quintero_Fatima_Del_Carmen.ipynb\" target=\"_parent\"><img src=\"https://colab.research.google.com/assets/colab-badge.svg\" alt=\"Open In Colab\"/></a>"
      ]
    },
    {
      "cell_type": "markdown",
      "source": [
        "ALUMNA: FATIMA DEL CARMEN ADAME QUINTERO\n",
        "\n",
        "MATERIA: ANÁLISIS Y DISEÑO DE ALGORITMOS\n",
        "\n",
        "GRADO: 3LCD"
      ],
      "metadata": {
        "id": "4bHEzXHg2nB8"
      }
    },
    {
      "cell_type": "markdown",
      "source": [
        "#PROBLEMA 2\n"
      ],
      "metadata": {
        "id": "90eIgya13LiC"
      }
    },
    {
      "cell_type": "markdown",
      "source": [
        "ALGORITMO"
      ],
      "metadata": {
        "id": "qFkVPZAzAKML"
      }
    },
    {
      "cell_type": "markdown",
      "source": [
        "#merge_sort(arr):\n",
        "\n",
        "- Esta función toma un arreglo 'arr' como entrada.\n",
        "\n",
        "- Si la longitud del arreglo es menor o igual a 1, devuelve el arreglo tal cual y 0 inversiones.\n",
        "\n",
        "- Calcula el punto medio (mid) del arreglo.\n",
        "\n",
        "- Llama recursivamente a merge_sort en las mitades izquierda (left) y derecha (right) del arreglo original.\n",
        "\n",
        "- Luego, llama a la función merge(left, right) para combinar y ordenar las dos mitades.\n",
        "\n",
        "- Calcula el número total de inversiones como la suma de las inversiones en las mitades izquierda y derecha, así como las inversiones resultantes de la combinación de ambas mitades.\n",
        "\n",
        "- Devuelve el arreglo ordenado y el número total de inversiones.\n",
        "\n",
        "#merge(left, right):\n",
        "\n",
        "- Esta función toma dos arreglos ordenados (left y right) como entrada.\n",
        "Inicializa variables para índices (i, j) y el contador de inversiones (inv_count).\n",
        "\n",
        "- Utiliza un bucle while para comparar elementos de left y right e ir construyendo el arreglo ordenado (merged).\n",
        "\n",
        "- Si un elemento de left es menor o igual que un elemento de right, se agrega a merged. Si no, se agrega el elemento de right y se incrementa inv_count por la cantidad de elementos restantes en left.\n",
        "\n",
        "- Se asegura de que todos los elementos de ambas mitades se agreguen a merged.\n",
        "\n",
        "- Devuelve el arreglo ordenado (merged) y el número de inversiones (inv_count).\n",
        "\n",
        "#Ejemplo de uso:\n",
        "\n",
        "- Se proporciona un ejemplo de uso donde se crea un arreglo arr y se llama a la función merge_sort para obtener el arreglo ordenado (sorted_arr) y el número de inversiones (inversions).\n",
        "\n",
        "- Luego, se imprime el arreglo ordenado y el número de inversiones."
      ],
      "metadata": {
        "id": "qdeK1f5tAOmk"
      }
    },
    {
      "cell_type": "markdown",
      "source": [
        "CÓDIGO"
      ],
      "metadata": {
        "id": "XIsmN4z1AHV5"
      }
    },
    {
      "cell_type": "code",
      "execution_count": 1,
      "metadata": {
        "colab": {
          "base_uri": "https://localhost:8080/"
        },
        "id": "e9_l_6hZ2kBg",
        "outputId": "79bf5689-3aff-46be-cfd0-89dee416688d"
      },
      "outputs": [
        {
          "output_type": "stream",
          "name": "stdout",
          "text": [
            "Arreglo ordenado: [1, 4, 5, 6, 20]\n",
            "Número de inversiones: 5\n"
          ]
        }
      ],
      "source": [
        "def merge_sort(arr):\n",
        "    if len(arr) <= 1:\n",
        "        return arr, 0\n",
        "\n",
        "    mid = len(arr) // 2\n",
        "    left, inv_count_left = merge_sort(arr[:mid])\n",
        "    right, inv_count_right = merge_sort(arr[mid:])\n",
        "    merged, inv_count_merge = merge(left, right)\n",
        "\n",
        "    total_inversions = inv_count_left + inv_count_right + inv_count_merge\n",
        "    return merged, total_inversions\n",
        "\n",
        "def merge(left, right):\n",
        "    merged = []\n",
        "    i = j = inv_count = 0\n",
        "\n",
        "    while i < len(left) and j < len(right):\n",
        "        if left[i] <= right[j]:\n",
        "            merged.append(left[i])\n",
        "            i += 1\n",
        "        else:\n",
        "            merged.append(right[j])\n",
        "            inv_count += len(left) - i\n",
        "            j += 1\n",
        "\n",
        "    merged.extend(left[i:])\n",
        "    merged.extend(right[j:])\n",
        "    return merged, inv_count\n",
        "\n",
        "# Ejemplo de uso:\n",
        "arr = [1, 20, 6, 4, 5]\n",
        "sorted_arr, inversions = merge_sort(arr)\n",
        "\n",
        "print(\"Arreglo ordenado:\", sorted_arr)\n",
        "print(\"Número de inversiones:\", inversions)\n"
      ]
    },
    {
      "cell_type": "markdown",
      "source": [
        "#PROBLEMA 4\n"
      ],
      "metadata": {
        "id": "XzksLba23pzs"
      }
    },
    {
      "cell_type": "markdown",
      "source": [
        "ALGORITMO"
      ],
      "metadata": {
        "id": "1WkBACx_Cx9g"
      }
    },
    {
      "cell_type": "markdown",
      "source": [
        "#Función merge_k_sorted_lists(lists):\n",
        "\n",
        "- Toma una lista de listas ordenadas (lists) como entrada.\n",
        "\n",
        "- Inicializa una lista vacía (result) para almacenar el resultado final y un heap vacío (heap) para realizar la fusión.\n",
        "\n",
        "- Itera sobre cada lista en lists e inserta el primer elemento de cada lista en el heap con información adicional (valor, índice de la lista, índice en la lista).\n",
        "\n",
        "- Luego, entra en un bucle mientras el heap no esté vacío:\n",
        "Extrae el elemento mínimo del heap (heappop) que contiene información sobre el valor, el índice de la lista y el índice en la lista.\n",
        "\n",
        "- Añade el valor al resultado final.\n",
        "\n",
        "- Si hay más elementos en la misma lista, se agrega el siguiente elemento al heap con la información actualizada.\n",
        "\n",
        "- Finalmente, devuelve la lista ordenada resultante.\n",
        "\n",
        "#Ejemplo de uso:\n",
        "\n",
        "- Se proporciona un ejemplo de uso donde se crea una lista de listas (k_lists) que representan k listas ordenadas.\n",
        "\n",
        "- Luego, se llama a la función merge_k_sorted_lists para obtener la lista ordenada resultante (sorted_result) fusionando las k listas.\n",
        "\n",
        "- Se imprime la lista ordenada resultante."
      ],
      "metadata": {
        "id": "L1K9QNoeCz5_"
      }
    },
    {
      "cell_type": "markdown",
      "source": [
        "CÓDIGO"
      ],
      "metadata": {
        "id": "upfziboqCtmy"
      }
    },
    {
      "cell_type": "code",
      "source": [
        "import heapq"
      ],
      "metadata": {
        "id": "EFFUIGby4LkS"
      },
      "execution_count": 2,
      "outputs": []
    },
    {
      "cell_type": "code",
      "source": [
        "def merge_k_sorted_lists(lists):\n",
        "    result = []\n",
        "    heap = []\n",
        "\n",
        "    # Inicializar el heap con el primer elemento de cada lista\n",
        "    for i, lst in enumerate(lists):\n",
        "        if lst:\n",
        "            heapq.heappush(heap, (lst[0], i, 0))  # (valor, lista_index,\n",
        "            #index_en_lista)\n",
        "\n",
        "    while heap:\n",
        "        val, lista_index, index_en_lista = heapq.heappop(heap)\n",
        "        result.append(val)\n",
        "\n",
        "        # Agregar el siguiente elemento de la misma lista al heap\n",
        "        if index_en_lista + 1 < len(lists[lista_index]):\n",
        "            heapq.heappush(heap, (lists[lista_index][index_en_lista + 1],\n",
        "                                  lista_index, index_en_lista + 1))\n",
        "\n",
        "    return result\n",
        "\n",
        "# Ejemplo de uso:\n",
        "k_lists = [\n",
        "    [1, 4, 7],\n",
        "    [2, 5, 8],\n",
        "    [3, 6, 9]\n",
        "]\n",
        "\n",
        "sorted_result = merge_k_sorted_lists(k_lists)\n",
        "print(\"Lista ordenada:\", sorted_result)\n"
      ],
      "metadata": {
        "colab": {
          "base_uri": "https://localhost:8080/"
        },
        "id": "qDJMamnT3vXc",
        "outputId": "dbc8ee54-7343-44c4-a4df-7ba744c82fc1"
      },
      "execution_count": 3,
      "outputs": [
        {
          "output_type": "stream",
          "name": "stdout",
          "text": [
            "Lista ordenada: [1, 2, 3, 4, 5, 6, 7, 8, 9]\n"
          ]
        }
      ]
    },
    {
      "cell_type": "markdown",
      "source": [
        "#PROBLEMA 7\n"
      ],
      "metadata": {
        "id": "1pJsu5fP4XHa"
      }
    },
    {
      "cell_type": "markdown",
      "source": [
        "ALGORITMO"
      ],
      "metadata": {
        "id": "-reZzvbOHKTT"
      }
    },
    {
      "cell_type": "markdown",
      "source": [
        "#Función buscar_kesimo_rotado(arr, k):\n",
        "\n",
        "- Toma un arreglo ordenado y rotado 'arr' y un entero 'k' como entrada.\n",
        "\n",
        "- Utiliza la búsqueda binaria para encontrar el k-ésimo elemento en el arreglo rotado.\n",
        "\n",
        "- Inicializa dos índices, 'inicio' y 'fin', para representar el rango de búsqueda en el arreglo.\n",
        "\n",
        "- Entra en un bucle mientras el rango de búsqueda no sea vacío (inicio <= fin):\n",
        " - Calcula el índice del elemento medio (medio) del rango actual.\n",
        "\n",
        " - Compara el elemento en el medio con el valor buscado 'k'.\n",
        "\n",
        " - Si el elemento en el medio es igual a 'k', devuelve el índice (medio).\n",
        "\n",
        " - Si la parte izquierda del rango es ordenada:\n",
        "\n",
        "   - Comprueba si k se encuentra en el rango ordenado de la parte izquierda.\n",
        "    \n",
        "     Actualiza inicio o fin en consecuencia.\n",
        "\n",
        " - Si la parte derecha del rango es ordenada:\n",
        "\n",
        "   - Comprueba si k se encuentra en el rango ordenado de la parte derecha.\n",
        "\n",
        "     Actualiza inicio o fin en consecuencia.\n",
        "\n",
        "\n",
        "- Si el bucle termina y no se encuentra el elemento, devuelve -1.\n",
        "\n",
        "#Ejemplo de uso:\n",
        "\n",
        "- Se proporciona un ejemplo de uso donde se define un arreglo ordenado y rotado (arr_rotado) y se busca el k-ésimo elemento (k = 5).\n",
        "\n",
        "- Luego, se imprime el resultado."
      ],
      "metadata": {
        "id": "twKrFlnHHP-x"
      }
    },
    {
      "cell_type": "markdown",
      "source": [
        "CÓDIGO"
      ],
      "metadata": {
        "id": "axnIEOP8HKfe"
      }
    },
    {
      "cell_type": "code",
      "source": [
        "def buscar_kesimo_rotado(arr, k):\n",
        "    inicio, fin = 0, len(arr) - 1\n",
        "\n",
        "    while inicio <= fin:\n",
        "        medio = (inicio + fin) // 2\n",
        "\n",
        "        # Caso base: si el elemento en el medio es el k-ésimo\n",
        "        if arr[medio] == k:\n",
        "            return medio\n",
        "\n",
        "        # Si la parte izquierda está ordenada\n",
        "        if arr[inicio] <= arr[medio]:\n",
        "            if arr[inicio] <= k <= arr[medio]:\n",
        "                fin = medio - 1\n",
        "            else:\n",
        "                inicio = medio + 1\n",
        "        # Si la parte derecha está ordenada\n",
        "        else:\n",
        "            if arr[medio] <= k <= arr[fin]:\n",
        "                inicio = medio + 1\n",
        "            else:\n",
        "                fin = medio - 1\n",
        "\n",
        "    return -1  # Si el elemento no se encuentra en el arreglo\n",
        "\n",
        "# Ejemplo de uso:\n",
        "arr_rotado = [15, 16, 19, 20, 25, 1, 3, 4, 5, 7, 10, 14]\n",
        "k = 5\n",
        "resultado = buscar_kesimo_rotado(arr_rotado, k)\n",
        "\n",
        "if resultado != -1:\n",
        "    print(f\"El {k}-ésimo elemento es {arr_rotado[resultado]}\")\n",
        "else:\n",
        "    print(f\"No se encontró el {k}-ésimo elemento en el arreglo.\")\n"
      ],
      "metadata": {
        "colab": {
          "base_uri": "https://localhost:8080/"
        },
        "id": "JQzjiVis4dem",
        "outputId": "461e91dd-45d6-41fb-bbf7-87213e5e1b01"
      },
      "execution_count": 8,
      "outputs": [
        {
          "output_type": "stream",
          "name": "stdout",
          "text": [
            "El 5-ésimo elemento es 5\n"
          ]
        }
      ]
    },
    {
      "cell_type": "markdown",
      "source": [
        "#PROBLEMA 8\n"
      ],
      "metadata": {
        "id": "fMtUcN1v5wsi"
      }
    },
    {
      "cell_type": "markdown",
      "source": [
        "ALGORITMO"
      ],
      "metadata": {
        "id": "xxR-LQjnK3st"
      }
    },
    {
      "cell_type": "markdown",
      "source": [
        "#Primera pasada: Encontrar el duplicado usando el algoritmo Floyd's Tortoise and Hare:\n",
        "\n",
        "- Inicializa dos variables, tortuga y liebre, ambas apuntando al primer elemento del arreglo.\n",
        "\n",
        "- Utiliza un bucle while para avanzar la tortuga un paso a la vez y la liebre dos pasos a la vez hasta que ambas apunten al mismo elemento. Esto es un ciclo en el arreglo.\n",
        "\n",
        "- Al detectar el ciclo, la tortuga y la liebre estarán en un punto dentro del ciclo.\n",
        "\n",
        "#Segunda pasada: Encontrar el faltante:\n",
        "\n",
        "- Reinicializa la tortuga al primer elemento del arreglo y avanza tanto la tortuga como la liebre un paso a la vez hasta que ambas apunten al mismo elemento. Este punto es el comienzo del ciclo en el arreglo.\n",
        "\n",
        "- En este punto, tortuga y liebre apuntan al mismo elemento, que es el duplicado.\n",
        "\n",
        "#Calcular el faltante:\n",
        "\n",
        "- Inicializa la variable faltante calculando la suma de los números de 1 a n-1 mediante sum(range(1, n)).\n",
        "\n",
        "- Resta la suma de todos los elementos del arreglo original arr utilizando sum(arr).\n",
        "\n",
        "- Agrega el valor del duplicado encontrado previamente.\n",
        "\n",
        "- Al final, faltante contendrá el número faltante en el arreglo.\n",
        "\n",
        "# Ejemplo de uso:\n",
        "\n",
        "- Se proporciona un ejemplo de uso con un arreglo arr.\n",
        "\n",
        "- Se llama a la función encontrar_duplicado_faltante(arr) para obtener el duplicado y el faltante.\n",
        "\n",
        "- Se imprime el resultado."
      ],
      "metadata": {
        "id": "8fQ9RSoYK9CM"
      }
    },
    {
      "cell_type": "markdown",
      "source": [
        "CÓDIGO"
      ],
      "metadata": {
        "id": "aGqrAncpK4DN"
      }
    },
    {
      "cell_type": "code",
      "source": [
        "def encontrar_duplicado_faltante(arr):\n",
        "    n = len(arr)\n",
        "\n",
        "    # Primera pasada: Encontrar el duplicado usando el algoritmo Floyd's\n",
        "    #Tortoise and Hare\n",
        "    tortuga = arr[0]\n",
        "    liebre = arr[0]\n",
        "\n",
        "    while True:\n",
        "        tortuga = arr[tortuga]\n",
        "        liebre = arr[arr[liebre]]\n",
        "\n",
        "        if tortuga == liebre:\n",
        "            break\n",
        "\n",
        "    # Segunda pasada: Encontrar el faltante\n",
        "    tortuga = arr[0]\n",
        "\n",
        "    while tortuga != liebre:\n",
        "        tortuga = arr[tortuga]\n",
        "        liebre = arr[liebre]\n",
        "\n",
        "    # En este punto, tortuga y liebre apuntan al mismo elemento,\n",
        "    # que es el duplicado\n",
        "    duplicado = tortuga\n",
        "\n",
        "    # Calcular el faltante\n",
        "    faltante = sum(range(1, n)) - sum(arr) + duplicado\n",
        "\n",
        "    return duplicado, faltante\n",
        "\n",
        "# Ejemplo de uso:\n",
        "arr = [4, 2, 1, 0, 3, 5, 1]\n",
        "duplicado, faltante = encontrar_duplicado_faltante(arr)\n",
        "\n",
        "print(f\"El duplicado es: {duplicado}\")\n",
        "print(f\"El faltante es: {faltante}\")\n"
      ],
      "metadata": {
        "colab": {
          "base_uri": "https://localhost:8080/"
        },
        "id": "1WRCO0nA6NZr",
        "outputId": "d972e993-dc81-48d1-a769-408f8c152eda"
      },
      "execution_count": 9,
      "outputs": [
        {
          "output_type": "stream",
          "name": "stdout",
          "text": [
            "El duplicado es: 4\n",
            "El faltante es: 9\n"
          ]
        }
      ]
    },
    {
      "cell_type": "markdown",
      "source": [
        "#PROBLEMA 10"
      ],
      "metadata": {
        "id": "0rN7REhr88iz"
      }
    },
    {
      "cell_type": "markdown",
      "source": [
        "ALGORITMO"
      ],
      "metadata": {
        "id": "O2x3xsQTNnR2"
      }
    },
    {
      "cell_type": "markdown",
      "source": [
        "# Clase FenwickTree:\n",
        "\n",
        "- _init_(self, n): El constructor de la clase toma un parámetro n que representa el tamaño del arreglo (la longitud del arreglo más 1). Inicializa el tamaño del arreglo (self.n) y crea un arreglo tree de tamaño (n + 1) lleno de ceros. La indexación comienza desde 1 hasta n.\n",
        "\n",
        "- add(self, i, y): Método para agregar un valor y al elemento en la posición i del arreglo. Incrementa el índice i en 1 para ajustarse a la indexación del árbol de Fenwick. Utiliza el operador bitwise & para acceder eficientemente a los elementos relevantes del árbol y actualizarlos. La operación de actualización se realiza en el nodo actual y sus nodos ascendentes.\n",
        "\n",
        "- partial_sum(self, i): Método para calcular la suma acumulativa de los primeros i elementos del arreglo. Incrementa el índice i en 1 y utiliza el operador bitwise & para acceder eficientemente a los elementos relevantes del árbol y realizar la suma acumulativa descendiendo por los nodos.\n",
        "\n",
        "# Ejemplo de uso:\n",
        "\n",
        "- Se proporciona un ejemplo de uso donde se inicializa un arreglo A con ceros y se crea un objeto fenwick_tree de la clase FenwickTree.\n",
        "\n",
        "- Se realizan operaciones de actualización (add) en las posiciones 2, 5 y 7 con los valores 5, 3 y 2, respectivamente.\n",
        "\n",
        "- Se realiza una operación de consulta (partial_sum) para obtener la suma acumulativa de los primeros 5 elementos."
      ],
      "metadata": {
        "id": "rqYuu3HYNnue"
      }
    },
    {
      "cell_type": "markdown",
      "source": [
        "CÓDIGO"
      ],
      "metadata": {
        "id": "aiTEZjpwNoIP"
      }
    },
    {
      "cell_type": "code",
      "source": [
        "class FenwickTree:\n",
        "    def __init__(self, n):\n",
        "        self.n = n\n",
        "        self.tree = [0] * (n + 1)\n",
        "\n",
        "    def add(self, i, y):\n",
        "        i += 1\n",
        "        while i <= self.n:\n",
        "            self.tree[i] += y\n",
        "            i += i & -i\n",
        "\n",
        "    def partial_sum(self, i):\n",
        "        i += 1\n",
        "        result = 0\n",
        "        while i > 0:\n",
        "            result += self.tree[i]\n",
        "            i -= i & -i\n",
        "        return result\n",
        "\n",
        "# Ejemplo de uso:\n",
        "n = 10\n",
        "A = [0] * n  # Inicializar el arreglo A con ceros\n",
        "fenwick_tree = FenwickTree(n)\n",
        "\n",
        "# Realizar operaciones\n",
        "fenwick_tree.add(2, 5)\n",
        "fenwick_tree.add(5, 3)\n",
        "fenwick_tree.add(7, 2)\n",
        "\n",
        "partial_sum_result = fenwick_tree.partial_sum(5)\n",
        "print(\"Partial Sum(5):\", partial_sum_result)\n"
      ],
      "metadata": {
        "colab": {
          "base_uri": "https://localhost:8080/"
        },
        "id": "KtUU65nV9B-j",
        "outputId": "3c7b8b20-612e-409d-db75-83d707b0dbe5"
      },
      "execution_count": 10,
      "outputs": [
        {
          "output_type": "stream",
          "name": "stdout",
          "text": [
            "Partial Sum(5): 8\n"
          ]
        }
      ]
    }
  ]
}