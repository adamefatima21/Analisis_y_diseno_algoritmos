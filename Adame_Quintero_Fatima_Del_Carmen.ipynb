{
  "nbformat": 4,
  "nbformat_minor": 0,
  "metadata": {
    "colab": {
      "provenance": [],
      "authorship_tag": "ABX9TyNmU14R+L50Hlju+O9zeKKO",
      "include_colab_link": true
    },
    "kernelspec": {
      "name": "python3",
      "display_name": "Python 3"
    },
    "language_info": {
      "name": "python"
    }
  },
  "cells": [
    {
      "cell_type": "markdown",
      "metadata": {
        "id": "view-in-github",
        "colab_type": "text"
      },
      "source": [
        "<a href=\"https://colab.research.google.com/github/adamefatima21/Analisis_y_diseno_algoritmos/blob/main/Adame_Quintero_Fatima_Del_Carmen.ipynb\" target=\"_parent\"><img src=\"https://colab.research.google.com/assets/colab-badge.svg\" alt=\"Open In Colab\"/></a>"
      ]
    },
    {
      "cell_type": "markdown",
      "source": [
        "ALUMNA: FATIMA DEL CARMEN ADAME QUINTERO\n",
        "\n",
        "MATERIA: ANÁLISIS Y DISEÑO DE ALGORITMOS\n",
        "\n",
        "GRADO: 3LCD"
      ],
      "metadata": {
        "id": "4bHEzXHg2nB8"
      }
    },
    {
      "cell_type": "markdown",
      "source": [
        "#PROBLEMA 2\n"
      ],
      "metadata": {
        "id": "90eIgya13LiC"
      }
    },
    {
      "cell_type": "markdown",
      "source": [
        "CÓDIGO"
      ],
      "metadata": {
        "id": "XIsmN4z1AHV5"
      }
    },
    {
      "cell_type": "code",
      "execution_count": 7,
      "metadata": {
        "colab": {
          "base_uri": "https://localhost:8080/"
        },
        "id": "e9_l_6hZ2kBg",
        "outputId": "7a41202f-22b8-48ce-a085-2dd513363a83"
      },
      "outputs": [
        {
          "output_type": "stream",
          "name": "stdout",
          "text": [
            "Permutación ordenada: [1, 2, 3, 4, 5, 6]\n",
            "Número de inversiones: 3\n",
            "CPU times: user 3 µs, sys: 0 ns, total: 3 µs\n",
            "Wall time: 6.44 µs\n"
          ]
        }
      ],
      "source": [
        "def contar_inversiones(arr):\n",
        "    if len(arr) <= 1:\n",
        "        return arr, 0\n",
        "\n",
        "    mitad = len(arr) // 2\n",
        "    izquierda, inversiones_izquierda = contar_inversiones(arr[:mitad])\n",
        "    derecha, inversiones_derecha = contar_inversiones(arr[mitad:])\n",
        "    fusion, inversiones_fusion = merge(izquierda, derecha)\n",
        "\n",
        "    inversiones_totales = inversiones_izquierda + inversiones_derecha + inversiones_fusion\n",
        "\n",
        "    return fusion, inversiones_totales\n",
        "\n",
        "def merge(izquierda, derecha):\n",
        "    i = j = inversiones = 0\n",
        "    fusion = []\n",
        "\n",
        "    while i < len(izquierda) and j < len(derecha):\n",
        "        if izquierda[i] <= derecha[j]:\n",
        "            fusion.append(izquierda[i])\n",
        "            i += 1\n",
        "        else:\n",
        "            fusion.append(derecha[j])\n",
        "            inversiones += len(izquierda) - i\n",
        "            j += 1\n",
        "\n",
        "    fusion.extend(izquierda[i:])\n",
        "    fusion.extend(derecha[j:])\n",
        "\n",
        "    return fusion, inversiones\n",
        "\n",
        "# Ejemplo de uso:\n",
        "#arr = [2, 3, 8, 6, 1]\n",
        "arr = [1, 3, 5, 2, 4, 6]\n",
        "resultado, inversiones = contar_inversiones(arr)\n",
        "print(\"Permutación ordenada:\", resultado)\n",
        "print(\"Número de inversiones:\", inversiones)\n",
        "\n",
        "%time"
      ]
    },
    {
      "cell_type": "markdown",
      "source": [
        "#PROBLEMA 4\n"
      ],
      "metadata": {
        "id": "XzksLba23pzs"
      }
    },
    {
      "cell_type": "markdown",
      "source": [
        "CÓDIGO"
      ],
      "metadata": {
        "id": "upfziboqCtmy"
      }
    },
    {
      "cell_type": "code",
      "source": [
        "import heapq\n",
        "\n",
        "def merge_k_sorted_lists(lists):\n",
        "    result = []\n",
        "    heap = []\n",
        "\n",
        "    # Inicializar el heap con el primer elemento de cada lista junto con su índice y valor.\n",
        "    for i, lst in enumerate(lists):\n",
        "        if lst:\n",
        "            heapq.heappush(heap, (lst[0], i, 0))\n",
        "\n",
        "    while heap:\n",
        "        val, list_index, element_index = heapq.heappop(heap)\n",
        "\n",
        "        # Agregar el valor al resultado final.\n",
        "        result.append(val)\n",
        "\n",
        "        # Mover al siguiente elemento de la lista actual si hay más elementos.\n",
        "        if element_index + 1 < len(lists[list_index]):\n",
        "            next_element = lists[list_index][element_index + 1]\n",
        "            heapq.heappush(heap, (next_element, list_index, element_index + 1))\n",
        "\n",
        "    return result\n",
        "\n",
        "# Ejemplo de uso:\n",
        "list1 = [34, 147, 718]\n",
        "list2 = [2, 5, 8]\n",
        "list3 = [3, 6, 9]\n",
        "\n",
        "result = merge_k_sorted_lists([list1, [2, 5, 8], [3, 6, 9]])\n",
        "print(\"Lista ordenada de los elementos:\", result)\n",
        "\n",
        "%time"
      ],
      "metadata": {
        "colab": {
          "base_uri": "https://localhost:8080/"
        },
        "id": "qDJMamnT3vXc",
        "outputId": "48b78c21-76f0-4478-c405-7dd841cbc3dd"
      },
      "execution_count": 8,
      "outputs": [
        {
          "output_type": "stream",
          "name": "stdout",
          "text": [
            "Lista ordenada de los elementos: [2, 3, 5, 6, 8, 9, 34, 147, 718]\n",
            "CPU times: user 3 µs, sys: 0 ns, total: 3 µs\n",
            "Wall time: 6.91 µs\n"
          ]
        }
      ]
    },
    {
      "cell_type": "markdown",
      "source": [
        "#PROBLEMA 7\n"
      ],
      "metadata": {
        "id": "1pJsu5fP4XHa"
      }
    },
    {
      "cell_type": "markdown",
      "source": [
        "CÓDIGO"
      ],
      "metadata": {
        "id": "axnIEOP8HKfe"
      }
    },
    {
      "cell_type": "code",
      "source": [
        "def buscar_kesimo_elemento(arr, k):\n",
        "    inicio, fin = 0, len(arr) - 1\n",
        "\n",
        "    while inicio <= fin:\n",
        "        medio = (inicio + fin) // 2\n",
        "\n",
        "        if arr[medio] == k:\n",
        "            return medio\n",
        "\n",
        "        # Caso 1: La mitad izquierda está ordenada\n",
        "        if arr[inicio] <= arr[medio]:\n",
        "            if arr[inicio] <= k <= arr[medio]:\n",
        "                fin = medio - 1\n",
        "            else:\n",
        "                inicio = medio + 1\n",
        "        # Caso 2: La mitad derecha está ordenada\n",
        "        else:\n",
        "            if arr[medio] <= k <= arr[fin]:\n",
        "                inicio = medio + 1\n",
        "            else:\n",
        "                fin = medio - 1\n",
        "\n",
        "    return -1  # Si no se encuentra el elemento\n",
        "\n",
        "# Ejemplo de uso:\n",
        "arreglo_rotado = [15, 16, 19, 20, 25, 1, 3, 4, 5, 7, 10, 14]\n",
        "#arreglo_rotado = [1, 3, 4, 5, 7, 10, 14, 15, 16, 19, 20, 25]\n",
        "k = 5\n",
        "resultado = buscar_kesimo_elemento(arreglo_rotado, k)\n",
        "\n",
        "if resultado != -1:\n",
        "    print(f\"El {k}-ésimo elemento es: {arreglo_rotado[resultado]}\")\n",
        "else:\n",
        "    print(\"Elemento no encontrado en el arreglo.\")\n",
        "\n",
        "%time"
      ],
      "metadata": {
        "colab": {
          "base_uri": "https://localhost:8080/"
        },
        "id": "JQzjiVis4dem",
        "outputId": "352923de-8ca5-4717-de96-d40c2e03b065"
      },
      "execution_count": 9,
      "outputs": [
        {
          "output_type": "stream",
          "name": "stdout",
          "text": [
            "El 5-ésimo elemento es: 5\n",
            "CPU times: user 4 µs, sys: 1e+03 ns, total: 5 µs\n",
            "Wall time: 7.63 µs\n"
          ]
        }
      ]
    },
    {
      "cell_type": "markdown",
      "source": [
        "#PROBLEMA 8\n"
      ],
      "metadata": {
        "id": "fMtUcN1v5wsi"
      }
    },
    {
      "cell_type": "markdown",
      "source": [
        "CÓDIGO"
      ],
      "metadata": {
        "id": "aGqrAncpK4DN"
      }
    },
    {
      "cell_type": "code",
      "source": [
        "def encontrar_duplicado_y_faltante(arr):\n",
        "    n = len(arr)\n",
        "\n",
        "    # Encontrar el duplicado\n",
        "    duplicado = -1\n",
        "    for num in arr:\n",
        "        indice_actual = abs(num) - 1\n",
        "        if arr[indice_actual] < 0:\n",
        "            duplicado = abs(num)\n",
        "        else:\n",
        "            arr[indice_actual] = -arr[indice_actual]\n",
        "\n",
        "    # Encontrar el faltante\n",
        "    faltante = -1\n",
        "    for i, num in enumerate(arr):\n",
        "        if num > 0:\n",
        "            faltante = i + 1\n",
        "\n",
        "    return duplicado, faltante\n",
        "\n",
        "# Ejemplo de uso:\n",
        "arreglo = [3, 1, 3, 4, 2, 6,7,5,9]\n",
        "duplicado, faltante = encontrar_duplicado_y_faltante(arreglo)\n",
        "\n",
        "print(f\"El número duplicado es: {duplicado}\")\n",
        "print(f\"El número faltante es: {faltante}\")\n",
        "\n",
        "%time"
      ],
      "metadata": {
        "colab": {
          "base_uri": "https://localhost:8080/"
        },
        "id": "1WRCO0nA6NZr",
        "outputId": "b9eb34d6-43a3-4e31-afcf-75b87b907c78"
      },
      "execution_count": 10,
      "outputs": [
        {
          "output_type": "stream",
          "name": "stdout",
          "text": [
            "El número duplicado es: 3\n",
            "El número faltante es: 8\n",
            "CPU times: user 4 µs, sys: 0 ns, total: 4 µs\n",
            "Wall time: 6.91 µs\n"
          ]
        }
      ]
    },
    {
      "cell_type": "markdown",
      "source": [
        "#PROBLEMA 10"
      ],
      "metadata": {
        "id": "0rN7REhr88iz"
      }
    },
    {
      "cell_type": "markdown",
      "source": [
        "CÓDIGO"
      ],
      "metadata": {
        "id": "aiTEZjpwNoIP"
      }
    },
    {
      "cell_type": "code",
      "source": [
        "class BinaryIndexedTree:\n",
        "    def __init__(self, n):\n",
        "        self.n = n\n",
        "        self.bit = [0] * (n + 1)\n",
        "\n",
        "    def add(self, i, y):\n",
        "        i += 1  # Ajuste de índice 0-based a 1-based\n",
        "        while i <= self.n:\n",
        "            self.bit[i] += y\n",
        "            i += i & -i\n",
        "\n",
        "    def partial_sum(self, i):\n",
        "        i += 1  # Ajuste de índice 0-based a 1-based\n",
        "        result = 0\n",
        "        while i > 0:\n",
        "            result += self.bit[i]\n",
        "            i -= i & -i\n",
        "        return result\n",
        "\n",
        "# Ejemplo de uso:\n",
        "n = 10\n",
        "A = [0] * n  # Inicializar el arreglo con ceros\n",
        "bit_tree = BinaryIndexedTree(n)\n",
        "\n",
        "# Realizar operaciones\n",
        "bit_tree.add(2, 5)\n",
        "bit_tree.add(5, 3)\n",
        "bit_tree.add(7, 8)\n",
        "\n",
        "print(\"Partial Sum(3):\", bit_tree.partial_sum(3))\n",
        "print(\"Partial Sum(6):\", bit_tree.partial_sum(6))\n",
        "\n",
        "%time"
      ],
      "metadata": {
        "colab": {
          "base_uri": "https://localhost:8080/"
        },
        "id": "KtUU65nV9B-j",
        "outputId": "25255e44-72dd-4ef2-cec6-24288983ad86"
      },
      "execution_count": 11,
      "outputs": [
        {
          "output_type": "stream",
          "name": "stdout",
          "text": [
            "Partial Sum(3): 5\n",
            "Partial Sum(6): 8\n",
            "CPU times: user 3 µs, sys: 0 ns, total: 3 µs\n",
            "Wall time: 7.39 µs\n"
          ]
        }
      ]
    }
  ]
}