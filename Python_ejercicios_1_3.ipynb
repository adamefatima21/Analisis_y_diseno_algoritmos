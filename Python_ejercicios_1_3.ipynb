{
  "nbformat": 4,
  "nbformat_minor": 0,
  "metadata": {
    "colab": {
      "provenance": [],
      "authorship_tag": "ABX9TyN61D9/xuE6Jyd9hZE1sUpo",
      "include_colab_link": true
    },
    "kernelspec": {
      "name": "python3",
      "display_name": "Python 3"
    },
    "language_info": {
      "name": "python"
    }
  },
  "cells": [
    {
      "cell_type": "markdown",
      "metadata": {
        "id": "view-in-github",
        "colab_type": "text"
      },
      "source": [
        "<a href=\"https://colab.research.google.com/github/adamefatima21/Analisis_y_diseno_algoritmos/blob/main/Python_ejercicios_1_3.ipynb\" target=\"_parent\"><img src=\"https://colab.research.google.com/assets/colab-badge.svg\" alt=\"Open In Colab\"/></a>"
      ]
    },
    {
      "cell_type": "markdown",
      "source": [
        "# Fátima Del Carmen Adame Quintero\n",
        "\n",
        "# Análisis y Diseño de Algoritmos\n",
        "\n",
        "# 17/09/2023"
      ],
      "metadata": {
        "id": "ExT2dlfGX-75"
      }
    },
    {
      "cell_type": "markdown",
      "source": [
        "# Ejercicio 1"
      ],
      "metadata": {
        "id": "AEIFZlyrYVDf"
      }
    },
    {
      "cell_type": "code",
      "execution_count": null,
      "metadata": {
        "id": "uKb6GgCPX7oK"
      },
      "outputs": [],
      "source": [
        "# files/open_try.py\n",
        "fh = open('/content/quijote.txt', 'rt') # r: leer, t: texto\n",
        "\n",
        "for line in fh.readlines():\n",
        "  print(line.strip()) # eliminar espacios en blanco e imprimir\n",
        "\n",
        "fh.close()"
      ]
    },
    {
      "cell_type": "markdown",
      "source": [
        "# Ejercicio 2"
      ],
      "metadata": {
        "id": "gmlM0dJlfb3X"
      }
    },
    {
      "cell_type": "code",
      "source": [
        "# files/open_try.py\n",
        "\n",
        "fh = open('/content/quijote.txt', 'rt')\n",
        "\n",
        "try:\n",
        "  for line in fh.readlines():\n",
        "    print(line.strip())\n",
        "finally:\n",
        "  fh.close()"
      ],
      "metadata": {
        "id": "MNXeTxrxfaki"
      },
      "execution_count": null,
      "outputs": []
    },
    {
      "cell_type": "markdown",
      "source": [
        "# Ejercicio 3"
      ],
      "metadata": {
        "id": "4CpOU0jEkMT_"
      }
    },
    {
      "cell_type": "code",
      "source": [
        "# files/open_try.py\n",
        "fh = open('/content/quijote.txt') #rt es predeterminada\n",
        "\n",
        "try:\n",
        "  for line in fh: #Nosotros podemos iterar directamente en fh\n",
        "    print(line.strip())\n",
        "finally:\n",
        "  fh.close()"
      ],
      "metadata": {
        "id": "939V2fT1kL6-"
      },
      "execution_count": null,
      "outputs": []
    },
    {
      "cell_type": "markdown",
      "source": [
        "# Ejercicio 4"
      ],
      "metadata": {
        "id": "P4zs3ZsAlG3Q"
      }
    },
    {
      "cell_type": "code",
      "source": [
        "# files/open_with.py\n",
        "with open('/content/quijote.txt') as fh:\n",
        "  for line in fh:\n",
        "    print(line.strip())"
      ],
      "metadata": {
        "id": "rMjqnmJWlJqB"
      },
      "execution_count": null,
      "outputs": []
    },
    {
      "cell_type": "markdown",
      "source": [
        "# Ejercicio 5"
      ],
      "metadata": {
        "id": "BykAg5gqldgy"
      }
    },
    {
      "cell_type": "code",
      "source": [
        "# files/print_file.py\n",
        "with open('print_example.txt', 'w') as fw:\n",
        "  print('Hey I am printing into a file!!!', file=fw)"
      ],
      "metadata": {
        "id": "PiLjgCK-ldQV"
      },
      "execution_count": 16,
      "outputs": []
    },
    {
      "cell_type": "markdown",
      "source": [
        "# Ejercicio 6"
      ],
      "metadata": {
        "id": "NiY6nnJ0pT_N"
      }
    },
    {
      "cell_type": "code",
      "source": [
        "# files/read_write.py\n",
        "with open('/content/quijote.txt') as f:\n",
        "  lines = [line.rstrip() for line in f]\n",
        "\n",
        "with open('fear_copy.txt', 'w') as fw:\n",
        "  fw.write('\\n'.join(lines))"
      ],
      "metadata": {
        "id": "XWIZBgMspYvK"
      },
      "execution_count": 20,
      "outputs": []
    },
    {
      "cell_type": "markdown",
      "source": [
        "# Ejercicio 7"
      ],
      "metadata": {
        "id": "VksjXMryrANi"
      }
    },
    {
      "cell_type": "code",
      "source": [
        "# files/read_write_bin.py\n",
        "with open('example.bin', 'wb') as fw:\n",
        "  fw.write(b'This is binary data...')\n",
        "\n",
        "with open('example.bin', 'rb') as f:\n",
        "  print(f.read()) # imprime: b'Estos son datos binarios...'"
      ],
      "metadata": {
        "colab": {
          "base_uri": "https://localhost:8080/"
        },
        "id": "ehb_9fLNrAan",
        "outputId": "0af7c810-6c11-4414-8f38-e62d4bb591dd"
      },
      "execution_count": 21,
      "outputs": [
        {
          "output_type": "stream",
          "name": "stdout",
          "text": [
            "b'This is binary data...'\n"
          ]
        }
      ]
    },
    {
      "cell_type": "markdown",
      "source": [
        "# Ejercicio 8"
      ],
      "metadata": {
        "id": "jLpI7JXqrYki"
      }
    },
    {
      "cell_type": "code",
      "source": [
        "# files/paths.py\n",
        "from pathlib import Path\n",
        "\n",
        "p = Path('fear.txt')\n",
        "\n",
        "print(p.absolute())\n",
        "print(p.name)\n",
        "print(p.parent.absolute())\n",
        "print(p.suffix)\n",
        "\n",
        "print(p.parts)\n",
        "print(p.absolute().parts)\n",
        "\n",
        "readme_path = p.parent / '..' / '..' / 'README.rst'\n",
        "print(readme_path.absolute())\n",
        "print(readme_path.resolve())"
      ],
      "metadata": {
        "colab": {
          "base_uri": "https://localhost:8080/"
        },
        "id": "1DQTAo6qrtyA",
        "outputId": "98daabf9-3989-46d4-d50b-08287a97edd1"
      },
      "execution_count": 31,
      "outputs": [
        {
          "output_type": "stream",
          "name": "stdout",
          "text": [
            "/content/fear.txt\n",
            "fear.txt\n",
            "/content\n",
            ".txt\n",
            "('fear.txt',)\n",
            "('/', 'content', 'fear.txt')\n",
            "/content/../../README.rst\n",
            "/README.rst\n"
          ]
        }
      ]
    },
    {
      "cell_type": "markdown",
      "source": [
        "# Ejercicio 9"
      ],
      "metadata": {
        "id": "RW88kxa_tqd1"
      }
    },
    {
      "cell_type": "code",
      "source": [
        "# files/tmp.py\n",
        "from tempfile import NamedTemporaryFile, TemporaryDirectory\n",
        "\n",
        "with TemporaryDirectory(dir='.') as td:\n",
        "  print('Temp directory:', td)\n",
        "  with NamedTemporaryFile(dir=td) as t:\n",
        "    name = t.name\n",
        "    print(name)"
      ],
      "metadata": {
        "colab": {
          "base_uri": "https://localhost:8080/"
        },
        "id": "HUm4KqIxtqti",
        "outputId": "cc4c1df1-2ae2-4e9d-b98e-f2387408b740"
      },
      "execution_count": 34,
      "outputs": [
        {
          "output_type": "stream",
          "name": "stdout",
          "text": [
            "Temp directory: ./tmpe7kjq4lo\n",
            "/content/tmpe7kjq4lo/tmppdtltttr\n"
          ]
        }
      ]
    },
    {
      "cell_type": "markdown",
      "source": [
        "# Ejercicio 10"
      ],
      "metadata": {
        "id": "HUKM15DUubl9"
      }
    },
    {
      "cell_type": "code",
      "source": [
        "# files/listing.py\n",
        "from pathlib import Path\n",
        "\n",
        "p = Path('.')\n",
        "for entry in p.glob('*'):\n",
        "  print('File:' if entry.is_file() else 'Folder:', entry)"
      ],
      "metadata": {
        "colab": {
          "base_uri": "https://localhost:8080/"
        },
        "id": "I9Nykps2uf1K",
        "outputId": "270180dd-0ab7-443b-f2b8-b4142f7abb7d"
      },
      "execution_count": 35,
      "outputs": [
        {
          "output_type": "stream",
          "name": "stdout",
          "text": [
            "Folder: .config\n",
            "File: example.bin\n",
            "Folder: .ipynb_checkpoints\n",
            "File: print_example.txt\n",
            "File: quijote.txt\n",
            "File: fear_copy.txt\n",
            "Folder: sample_data\n"
          ]
        }
      ]
    }
  ]
}