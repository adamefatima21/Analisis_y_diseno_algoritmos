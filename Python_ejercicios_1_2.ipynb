{
  "nbformat": 4,
  "nbformat_minor": 0,
  "metadata": {
    "colab": {
      "provenance": [],
      "authorship_tag": "ABX9TyMDwKnUr+sahSTQfGeKTVqs",
      "include_colab_link": true
    },
    "kernelspec": {
      "name": "python3",
      "display_name": "Python 3"
    },
    "language_info": {
      "name": "python"
    }
  },
  "cells": [
    {
      "cell_type": "markdown",
      "metadata": {
        "id": "view-in-github",
        "colab_type": "text"
      },
      "source": [
        "<a href=\"https://colab.research.google.com/github/adamefatima21/Analisis_y_diseno_algoritmos/blob/main/Python_ejercicios_1_2.ipynb\" target=\"_parent\"><img src=\"https://colab.research.google.com/assets/colab-badge.svg\" alt=\"Open In Colab\"/></a>"
      ]
    },
    {
      "cell_type": "markdown",
      "source": [
        "# Fátima Del Carmen Adame Quintero\n",
        "\n",
        "# Análisis y Diseño de Algoritmos\n",
        "\n",
        "# 17/09/2023"
      ],
      "metadata": {
        "id": "S9EBLTEWbHxB"
      }
    },
    {
      "cell_type": "markdown",
      "source": [
        "# Ejercicio 1"
      ],
      "metadata": {
        "id": "-G6wzRdWaglC"
      }
    },
    {
      "cell_type": "code",
      "execution_count": null,
      "metadata": {
        "colab": {
          "base_uri": "https://localhost:8080/"
        },
        "id": "lCwzrDt-ae8e",
        "outputId": "4092c457-6277-4101-a19d-2087eade94f0"
      },
      "outputs": [
        {
          "output_type": "stream",
          "name": "stdout",
          "text": [
            "5 impresión desde el ámbito global\n",
            "13 impresión desde el ámbito local\n"
          ]
        }
      ],
      "source": [
        "# scopes3.py\n",
        "# Local, Enclosing and Global\n",
        "def enclosing_func():\n",
        "  m = 13\n",
        "  def local():\n",
        "    # m no pertenece al alcance definido por el local\n",
        "    # funcion para que python siga investigando el siguiente\n",
        "    # alcance adjunto. Esta vez m se encuentra en el recinto\n",
        "    # alcance\n",
        "      print(m, 'impresión desde el ámbito local')\n",
        "    # calling the function local\n",
        "  local()\n",
        "m = 5\n",
        "print(m, 'impresión desde el ámbito global')\n",
        "enclosing_func()"
      ]
    },
    {
      "cell_type": "markdown",
      "source": [
        "# Ejercicio 2"
      ],
      "metadata": {
        "id": "6jn8u4hhbL9H"
      }
    },
    {
      "cell_type": "code",
      "source": [
        "# scopes2.py\n",
        "# Local versus Global\n",
        "def local():\n",
        "    # m no pertenece al alcance definido por la funcion local\n",
        "    # entonces python seguira buscando en el siguiente ambito adjunto.\n",
        "    # m finalmente se encuentra en el ambito local.\n",
        "    print(m, 'impresión desde el ámbito local')\n",
        "m = 5\n",
        "print(m, 'impresión desde el ámbito global')\n",
        "local()"
      ],
      "metadata": {
        "colab": {
          "base_uri": "https://localhost:8080/"
        },
        "id": "Ke3bbOGHbQMZ",
        "outputId": "e6e8c13d-ebdf-408e-c7ae-d6ccb561f3e5"
      },
      "execution_count": null,
      "outputs": [
        {
          "output_type": "stream",
          "name": "stdout",
          "text": [
            "5 impresión desde el ámbito global\n",
            "5 impresión desde el ámbito local\n"
          ]
        }
      ]
    },
    {
      "cell_type": "markdown",
      "source": [
        "# Ejercicio 3"
      ],
      "metadata": {
        "id": "r9G1dkX3iO7W"
      }
    },
    {
      "cell_type": "code",
      "source": [
        "# bike.py\n",
        "# definamos la clase Bicicleta\n",
        "class Bike:\n",
        "\n",
        "    def __init__(self, colour, frame_material):\n",
        "        self.colour = colour\n",
        "        self.frame_material = frame_material\n",
        "\n",
        "    def brake(self):\n",
        "        print(\"Braking!\")\n",
        "\n",
        "# creemos un par de instancias\n",
        "red_bike = Bike('Red', 'Carbon fiber')\n",
        "blue_bike = Bike('Blue', 'Steel')\n",
        "\n",
        "# inspeccionemos los objetos que tenemos, instancias de la clase Bike.\n",
        "print(red_bike.colour) # estampado: rojo\n",
        "print(red_bike.frame_material) # estampado: fibra de carbono\n",
        "print(blue_bike.colour) # estampado: azul\n",
        "print(blue_bike.frame_material) # impresion: Acero\n",
        "# ¡frenemos!\n",
        "red_bike.brake() # imprime: ¡Frenando!"
      ],
      "metadata": {
        "colab": {
          "base_uri": "https://localhost:8080/"
        },
        "id": "-kxenT0_iTJk",
        "outputId": "a8bfc599-01c9-4e11-9739-e8a94499eca2"
      },
      "execution_count": 8,
      "outputs": [
        {
          "output_type": "stream",
          "name": "stdout",
          "text": [
            "Red\n",
            "Carbon fiber\n",
            "Blue\n",
            "Steel\n",
            "Braking!\n"
          ]
        }
      ]
    },
    {
      "cell_type": "markdown",
      "source": [
        "# Ejercicio 4"
      ],
      "metadata": {
        "id": "xW0jYNVbmC7e"
      }
    },
    {
      "cell_type": "code",
      "source": [
        ">>> d = dict(zip('hello', range(5)))\n",
        ">>> d\n",
        "{'h': 0, 'e': 1, 'l': 3, 'o': 4}"
      ],
      "metadata": {
        "colab": {
          "base_uri": "https://localhost:8080/"
        },
        "id": "huchEsybmF98",
        "outputId": "afed4f09-3c0e-493e-df0a-3cf6836883ae"
      },
      "execution_count": 9,
      "outputs": [
        {
          "output_type": "execute_result",
          "data": {
            "text/plain": [
              "{'h': 0, 'e': 1, 'l': 3, 'o': 4}"
            ]
          },
          "metadata": {},
          "execution_count": 9
        }
      ]
    },
    {
      "cell_type": "markdown",
      "source": [
        "# Ejercicio 5"
      ],
      "metadata": {
        "id": "4gQqd3nTm8Oy"
      }
    },
    {
      "cell_type": "code",
      "source": [
        "# multiple.sequences.enumerate.py\n",
        "people = ['Nick', 'Rick', 'Roger', 'Syd']\n",
        "ages = [23, 24, 23, 21]\n",
        "for position, person in enumerate(people):\n",
        "    age = ages[position]\n",
        "    print(person, age)"
      ],
      "metadata": {
        "colab": {
          "base_uri": "https://localhost:8080/"
        },
        "id": "pKXMgkE5nFe8",
        "outputId": "b8aeccdf-b168-41c0-98bb-e8004e9543ed"
      },
      "execution_count": 10,
      "outputs": [
        {
          "output_type": "stream",
          "name": "stdout",
          "text": [
            "Nick 23\n",
            "Rick 24\n",
            "Roger 23\n",
            "Syd 21\n"
          ]
        }
      ]
    },
    {
      "cell_type": "markdown",
      "source": [
        "# Ejemplo 6"
      ],
      "metadata": {
        "id": "HzAPIKlJoMZD"
      }
    },
    {
      "cell_type": "code",
      "source": [
        "# multiple.sequences.explicit.py\n",
        "#multiples secuencias\n",
        "people = ['Nick', 'Rick', 'Roger', 'Syd']\n",
        "ages = [23, 24, 23, 21]\n",
        "instruments = ['Drums', 'Keyboards', 'Bass', 'Guitar']\n",
        "for person, age, instrument in zip(people, ages, instruments):\n",
        "    print(person, age, instrument)"
      ],
      "metadata": {
        "colab": {
          "base_uri": "https://localhost:8080/"
        },
        "id": "hGPm3LhIoRsq",
        "outputId": "bc62fc7c-919c-4b25-aa52-2fa671419b60"
      },
      "execution_count": 1,
      "outputs": [
        {
          "output_type": "stream",
          "name": "stdout",
          "text": [
            "Nick 23 Drums\n",
            "Rick 24 Keyboards\n",
            "Roger 23 Bass\n",
            "Syd 21 Guitar\n"
          ]
        }
      ]
    },
    {
      "cell_type": "markdown",
      "source": [
        "#Ejercicio 7"
      ],
      "metadata": {
        "id": "8EjyMqEHo1Zs"
      }
    },
    {
      "cell_type": "code",
      "source": [
        "# binary.py\n",
        "n = 39\n",
        "remainders = []\n",
        "while n > 0:\n",
        "    remainder = n % 2 # resto de la división por 2\n",
        "    remainders.append(remainder) # hacemos un seguimiento de los restos\n",
        "    n //= 2 # Nosotros dividimos n por 2\n",
        "remainders.reverse()\n",
        "print(remainders)"
      ],
      "metadata": {
        "colab": {
          "base_uri": "https://localhost:8080/"
        },
        "id": "MteeIR78o717",
        "outputId": "2843dab4-40b1-495c-9b07-93e7c8c61d63"
      },
      "execution_count": 13,
      "outputs": [
        {
          "output_type": "stream",
          "name": "stdout",
          "text": [
            "[1, 0, 0, 1, 1, 1]\n"
          ]
        }
      ]
    },
    {
      "cell_type": "markdown",
      "source": [
        "# Ejercicio 8"
      ],
      "metadata": {
        "id": "uj0bDoG1paH_"
      }
    },
    {
      "cell_type": "code",
      "source": [
        "# multiple.sequences.while.py\n",
        "\n",
        "people = ['Nick', 'Rick', 'Roger', 'Syd']\n",
        "ages = [23, 24, 23, 21]\n",
        "position = 0\n",
        "while position < len(people):\n",
        "    person = people[position]\n",
        "    age = ages[position]\n",
        "    print(person, age)\n",
        "    position += 1"
      ],
      "metadata": {
        "colab": {
          "base_uri": "https://localhost:8080/"
        },
        "id": "JB2RWiWjpg3O",
        "outputId": "c2a8f220-e038-488f-d968-a3d7470914be"
      },
      "execution_count": 22,
      "outputs": [
        {
          "output_type": "stream",
          "name": "stdout",
          "text": [
            "Nick 23\n",
            "Rick 24\n",
            "Roger 23\n",
            "Syd 21\n"
          ]
        }
      ]
    },
    {
      "cell_type": "markdown",
      "source": [
        "# Ejercicio 9"
      ],
      "metadata": {
        "id": "Zc07ZyHjqOCN"
      }
    },
    {
      "cell_type": "code",
      "source": [
        "# discount.py\n",
        "from datetime import date, timedelta\n",
        "\n",
        "today = date.today()\n",
        "tomorrow = today + timedelta(days=1) # hoy + 1 día es mañana\n",
        "products = [\n",
        "  {'sku': '1', 'expiration_date': today, 'price': 100.0},\n",
        "  {'sku': '2', 'expiration_date': tomorrow, 'price': 50},\n",
        "  {'sku': '3', 'expiration_date': today, 'price': 20},\n",
        "]\n",
        "for product in products:\n",
        "  if product['expiration_date'] != today:\n",
        "      continue\n",
        "  product['price'] *= 0.8 # equivalente a aplicar un 20% de descuento\n",
        "  print(\n",
        "  'Price for sku', product['sku'],\n",
        "  'is now', product['price'])"
      ],
      "metadata": {
        "colab": {
          "base_uri": "https://localhost:8080/"
        },
        "id": "G_VO54M-re96",
        "outputId": "9bcd821d-0d11-4151-e080-7d11ef2b37c2"
      },
      "execution_count": 23,
      "outputs": [
        {
          "output_type": "stream",
          "name": "stdout",
          "text": [
            "Price for sku 1 is now 80.0\n",
            "Price for sku 3 is now 16.0\n"
          ]
        }
      ]
    },
    {
      "cell_type": "markdown",
      "source": [
        "# Ejercicio 10"
      ],
      "metadata": {
        "id": "NihkD65ItUQG"
      }
    },
    {
      "cell_type": "code",
      "source": [
        "# for.else.py\n",
        "class DriverException(Exception):\n",
        "  pass\n",
        "people = [('James', 17), ('Kirk', 9), ('Lars', 13), ('Robert', 8)]\n",
        "for person, age in people:\n",
        "  if age >= 18:\n",
        "    driver = (person, age)\n",
        "  break\n",
        "else:\n",
        "  raise DriverException('Driver not found.')"
      ],
      "metadata": {
        "id": "cUX1Z6ApteOQ"
      },
      "execution_count": 3,
      "outputs": []
    }
  ]
}